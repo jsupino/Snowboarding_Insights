{
 "cells": [
  {
   "cell_type": "markdown",
   "id": "19c236fc-467e-4f7b-845e-6809b6583a26",
   "metadata": {},
   "source": [
    "## Ski Resort Data\n",
    "\n",
    "The Global Ski Resort Rankings Dataset (ski_resorts1.csv) was obtained from Data Mendeley: https://data.mendeley.com/datasets/5thd2k26sz/1\n",
    "\n",
    "The Ski Resorts dataset (ski_resorts2.csv) was obtained from Kaggle: https://www.kaggle.com/datasets/ulrikthygepedersen/ski-resorts/data?select=resorts.csv"
   ]
  },
  {
   "cell_type": "code",
   "execution_count": null,
   "id": "a4c8934b-49af-4dc2-b3d9-4f74609b50ce",
   "metadata": {},
   "outputs": [],
   "source": [
    "import pandas as pd"
   ]
  },
  {
   "cell_type": "markdown",
   "id": "d1c353b9-68c2-4cd5-bebe-f9ae7ca4aac7",
   "metadata": {},
   "source": [
    "### Importing Ski Resort Datasets\n",
    "Datasets do not contain any null values."
   ]
  },
  {
   "cell_type": "code",
   "execution_count": null,
   "id": "7791ac09-d33d-4726-b677-5d2289c2040a",
   "metadata": {},
   "outputs": [],
   "source": [
    "ski_resorts1 = pd.read_csv('ski_resorts1.csv', encoding='latin1')\n",
    "ski_resorts1.info()"
   ]
  },
  {
   "cell_type": "markdown",
   "id": "41384fe9-6457-4e5a-9173-d9a075f0dcb9",
   "metadata": {},
   "source": [
    "Ski_resorts2.csv failed to import with utf-8 due to issues, so I chose latin1. "
   ]
  },
  {
   "cell_type": "code",
   "execution_count": null,
   "id": "6af154ad-b169-49ea-8768-b0a1cae6484f",
   "metadata": {},
   "outputs": [],
   "source": [
    "ski_resorts2 = pd.read_csv('ski_resorts2.csv', encoding='latin1')\n",
    "ski_resorts2.info()"
   ]
  },
  {
   "cell_type": "markdown",
   "id": "a3264ab3-280b-4587-ba4a-5699cbea2610",
   "metadata": {},
   "source": [
    "## United States Ski Resorts\n",
    "The focus is on ski resorts in the United States."
   ]
  },
  {
   "cell_type": "code",
   "execution_count": null,
   "id": "a50b7e46-8a78-4dba-bdb5-5ff63b70991f",
   "metadata": {},
   "outputs": [],
   "source": [
    "us_ski_resorts = ski_resorts1[ski_resorts1['location_country'] == 'USA']\n",
    "us_ski_resorts.head()"
   ]
  },
  {
   "cell_type": "code",
   "execution_count": null,
   "id": "288c26c8-73d4-441a-801c-642a33596e28",
   "metadata": {},
   "outputs": [],
   "source": [
    "us_ski_resorts2 = ski_resorts2[ski_resorts2['Country'] == 'United States']\n",
    "us_ski_resorts2"
   ]
  },
  {
   "cell_type": "code",
   "execution_count": null,
   "id": "27d171a0-6c52-4106-9c0b-21696f3f7551",
   "metadata": {},
   "outputs": [],
   "source": []
  }
 ],
 "metadata": {
  "kernelspec": {
   "display_name": "Python [conda env:base] *",
   "language": "python",
   "name": "conda-base-py"
  },
  "language_info": {
   "codemirror_mode": {
    "name": "ipython",
    "version": 3
   },
   "file_extension": ".py",
   "mimetype": "text/x-python",
   "name": "python",
   "nbconvert_exporter": "python",
   "pygments_lexer": "ipython3",
   "version": "3.12.7"
  }
 },
 "nbformat": 4,
 "nbformat_minor": 5
}
